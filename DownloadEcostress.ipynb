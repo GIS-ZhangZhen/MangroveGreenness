{
 "cells": [
  {
   "cell_type": "markdown",
   "metadata": {},
   "source": [
    "Download ECOSTRESS data using NASA AρρEEARS api"
   ]
  },
  {
   "cell_type": "code",
   "execution_count": 1,
   "metadata": {},
   "outputs": [
    {
     "name": "stdin",
     "output_type": "stream",
     "text": [
      "Enter NASA Earthdata Login Username:  ··········\n",
      "Enter NASA Earthdata Login Password:  ···········\n"
     ]
    }
   ],
   "source": [
    "import requests as r\n",
    "import getpass, pprint, time, os, cgi, json\n",
    "\n",
    "api = 'https://appeears.earthdatacloud.nasa.gov/api/'  # Set the AρρEEARS API to a variable\n",
    "\n",
    "user = getpass.getpass(prompt = 'Enter NASA Earthdata Login Username: ')      # Input NASA Earthdata Login Username\n",
    "password = getpass.getpass(prompt = 'Enter NASA Earthdata Login Password: ')  # Input NASA Earthdata Login Password"
   ]
  },
  {
   "cell_type": "code",
   "execution_count": 2,
   "metadata": {},
   "outputs": [
    {
     "data": {
      "text/plain": [
       "{'token_type': 'Bearer',\n",
       " 'token': 'x-FNHQGf4hyeSzp0Xw8DhS4qag0G2MkJg0uL7rA_Y5sHVNZCzjaPJ_OxjiNfMrzXnJ1WHsncvQjrqtH2VGkRbA',\n",
       " 'expiration': '2022-06-17T03:32:59Z'}"
      ]
     },
     "execution_count": 2,
     "metadata": {},
     "output_type": "execute_result"
    }
   ],
   "source": [
    "token_response = r.post('{}login'.format(api), auth=(user, password)).json() # Insert base API URL, call the login service, provide credentials & return json\n",
    "del user, password                                                           # Remove user and password information upon a successful login \n",
    "token_response  "
   ]
  },
  {
   "cell_type": "code",
   "execution_count": 3,
   "metadata": {},
   "outputs": [
    {
     "data": {
      "text/plain": [
       "434"
      ]
     },
     "execution_count": 3,
     "metadata": {},
     "output_type": "execute_result"
    }
   ],
   "source": [
    "params = {'pretty': True}\n",
    "token = token_response['token']                      # Save login token to a variable\n",
    "head = {'Authorization': 'Bearer {}'.format(token)} \n",
    "tasks_response = r.get('{}task'.format(api), params=params, headers=head).json() # Query task service, setting params and header \n",
    "len(tasks_response)  ##"
   ]
  },
  {
   "cell_type": "code",
   "execution_count": 11,
   "metadata": {},
   "outputs": [
    {
     "data": {
      "text/plain": [
       "{'error': None,\n",
       " 'params': {'dates': [{'endDate': '12-31-2020',\n",
       "    'recurring': False,\n",
       "    'startDate': '01-01-2019',\n",
       "    'yearRange': [1950, 2050]}],\n",
       "  'layers': [{'layer': 'EVAPOTRANSPIRATION_PT_JPL_ETcanopy',\n",
       "    'product': 'ECO3ETPTJPL.001'},\n",
       "   {'layer': 'EVAPOTRANSPIRATION_PT_JPL_ETdaily',\n",
       "    'product': 'ECO3ETPTJPL.001'}],\n",
       "  'output': {'format': {'type': 'geotiff'}, 'projection': 'native'}},\n",
       " 'status': 'done',\n",
       " 'created': '2022-06-13T06:20:32.919137',\n",
       " 'task_id': '42f8dedc-b1b3-4f42-9b7e-b263f02a30a1',\n",
       " 'updated': '2022-06-13T09:07:47.236238',\n",
       " 'user_id': '18075416868@163.com',\n",
       " 'attempts': 1,\n",
       " 'estimate': {'request_size': 359440835815.57117},\n",
       " 'retry_at': None,\n",
       " 'completed': '2022-06-13T09:07:47.235092',\n",
       " 'has_swath': True,\n",
       " 'task_name': '588',\n",
       " 'task_type': 'area',\n",
       " 'api_version': None,\n",
       " 'svc_version': '3.4',\n",
       " 'web_version': '3.4',\n",
       " 'size_category': '0',\n",
       " 'has_nsidc_daac': False,\n",
       " 'expires_on': '2022-07-13T09:07:47.236238'}"
      ]
     },
     "execution_count": 11,
     "metadata": {},
     "output_type": "execute_result"
    }
   ],
   "source": [
    "tasks_response[2]"
   ]
  },
  {
   "cell_type": "code",
   "execution_count": 13,
   "metadata": {},
   "outputs": [
    {
     "name": "stdout",
     "output_type": "stream",
     "text": [
      "Downloaded files can be found at: G:/DataBase/MangroveGreenness/ClimateData/ET/ECOSTRESS/Grids/588\n"
     ]
    }
   ],
   "source": [
    "inDir = 'G:/DataBase/MangroveGreenness/ClimateData/ET/ECOSTRESS/Grids/'    # IMPORTANT: Update to reflect directory on your OS\n",
    "os.chdir(inDir) \n",
    "for i in [0,2]: ##\n",
    "    task_name = tasks_response[i]['task_name']\n",
    "    task_id = tasks_response[i]['task_id']\n",
    "\n",
    "    destDir = os.path.join(inDir, task_name)                # Set up output directory using input directory and task name\n",
    "    if os.path.exists(destDir):\n",
    "        continue\n",
    "    if not os.path.exists(destDir):\n",
    "        os.makedirs(destDir)\n",
    "    bundle = r.get('{}bundle/{}'.format(api,task_id), headers=head).json()  # Call API and return bundle contents for the task_id as json\n",
    "    files = {}                                                       # Create empty dictionary\n",
    "    for f in bundle['files']: files[f['file_id']] = f['file_name']\n",
    "    for f in files:\n",
    "        dl = r.get('{}bundle/{}/{}'.format(api, task_id, f), headers=head, stream=True, allow_redirects = 'True')                                # Get a stream to the bundle file\n",
    "        if files[f].endswith('.tif'):\n",
    "            filename = files[f].split('/')[1]\n",
    "            filepath = os.path.join(destDir, filename)                                                       # Create output file path\n",
    "            with open(filepath, 'wb') as f:                                                                  # Write file to dest dir\n",
    "                for data in dl.iter_content(chunk_size=8192): f.write(data) \n",
    "    print('Downloaded files can be found at: {}'.format(destDir))"
   ]
  }
 ],
 "metadata": {
  "kernelspec": {
   "display_name": "Python 3",
   "language": "python",
   "name": "python3"
  },
  "language_info": {
   "codemirror_mode": {
    "name": "ipython",
    "version": 3
   },
   "file_extension": ".py",
   "mimetype": "text/x-python",
   "name": "python",
   "nbconvert_exporter": "python",
   "pygments_lexer": "ipython3",
   "version": "3.7.3"
  }
 },
 "nbformat": 4,
 "nbformat_minor": 2
}
